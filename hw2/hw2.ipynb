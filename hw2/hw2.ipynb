{
 "cells": [
  {
   "cell_type": "markdown",
   "metadata": {
    "id": "XPUiK8-evUQt"
   },
   "source": [
    "# Homework 2\n",
    "\n",
    "**The following notebook is meant to help you work through Problems 1 and 3 on Homework 2. You are by no means required to use it, nor are you required to fill out/use any of the boilerplate code/functions. You are welcome to implement the functions however you wish.**\n"
   ]
  },
  {
   "cell_type": "code",
   "execution_count": 1,
   "metadata": {
    "executionInfo": {
     "elapsed": 243,
     "status": "ok",
     "timestamp": 1739570669758,
     "user": {
      "displayName": "Will Hahn",
      "userId": "03137104021071489773"
     },
     "user_tz": 300
    },
    "id": "nMYN3OrPJKT6"
   },
   "outputs": [],
   "source": [
    "# transformation as described in problem statement\n",
    "def transform(X):\n",
    "  X = np.stack((X[:,0]*20/0.7-7.5, X[:,1]/140 - (500/140+0.5)), axis=1)\n",
    "  return X"
   ]
  },
  {
   "cell_type": "code",
   "execution_count": 2,
   "metadata": {
    "executionInfo": {
     "elapsed": 1178,
     "status": "ok",
     "timestamp": 1739570682438,
     "user": {
      "displayName": "Will Hahn",
      "userId": "03137104021071489773"
     },
     "user_tz": 300
    },
    "id": "8vi6ULCLvUQw",
    "tags": []
   },
   "outputs": [],
   "source": [
    "# loading data\n",
    "import numpy as np\n",
    "import pandas as pd\n",
    "import matplotlib.pyplot as plt\n",
    "import matplotlib.colors as c\n",
    "import matplotlib.patches as mpatches\n",
    "from scipy.special import expit as sigmoid\n",
    "from scipy.special import softmax\n",
    "from scipy.special import logsumexp\n",
    "from scipy.stats import mode\n",
    "from scipy.stats import multivariate_normal as mvn\n",
    "\n",
    "# data for Problem 1\n",
    "t_obs, y_obs = np.genfromtxt(\"data/planet-obs.csv\", delimiter = ',').T\n",
    "t_obs = np.split(t_obs, 10)\n",
    "y_obs = np.split(y_obs.reshape(-1, 1), 10)\n",
    "\n",
    "# data for Problem 3\n",
    "data = pd.read_csv(\"data/hr.csv\")\n",
    "mapper = {\n",
    "    \"Automatically Rejected\": 0,\n",
    "    \"Require Guarantor\": 1,\n",
    "    \"Automatically Accepted\": 2\n",
    "}\n",
    "data['Type'] = data['Type'].map(mapper)\n",
    "\n",
    "X_applicants = data[['Debt to Income Ratio', 'Credit Score']].values\n",
    "\n",
    "# Transformation\n",
    "X_applicants = transform(X_applicants)\n",
    "y_applicants = data['Type'].values\n",
    "\n",
    "from T2_P1_TestCases import test_p1\n",
    "from T2_P3_TestCases import test_p3_softmax, test_p3_knn"
   ]
  },
  {
   "cell_type": "markdown",
   "metadata": {
    "id": "pDmd0_vZvUQy"
   },
   "source": [
    "# Problem 1"
   ]
  },
  {
   "cell_type": "markdown",
   "metadata": {
    "id": "Ce56ZRllvUQy"
   },
   "source": [
    "## Problem 1 Subpart 1"
   ]
  },
  {
   "cell_type": "code",
   "execution_count": 3,
   "metadata": {
    "executionInfo": {
     "elapsed": 181,
     "status": "ok",
     "timestamp": 1739570686940,
     "user": {
      "displayName": "Will Hahn",
      "userId": "03137104021071489773"
     },
     "user_tz": 300
    },
    "id": "2NCwCEFGvUQy",
    "tags": []
   },
   "outputs": [],
   "source": [
    "def basis1(t):\n",
    "    return np.stack([np.ones(len(t)), t], axis=1)\n",
    "\n",
    "def basis2(t):\n",
    "    \"\"\"\n",
    "    Transform t into basis [1, t, t^2]\n",
    "\n",
    "    :param t: a numpy array of values to transform. Shape is (n,)\n",
    "    :return: a 2D array in which each row corresponds to a basis transformation of\n",
    "             an input value. Shape should be (n x 3)\n",
    "    \"\"\"\n",
    "    # YOUR CODE HERE\n",
    "    pass\n",
    "\n",
    "def basis3(t):\n",
    "    \"\"\"\n",
    "    Transform t into basis [1, t, t^2, t^3, t^4, t^5]\n",
    "\n",
    "    :param t: a numpy array of values to transform. Shape is (n,)\n",
    "    :return: a 2D array in which each row corresponds to a basis transformation of\n",
    "             an input value. Shape should be (n x 6)\n",
    "    \"\"\"\n",
    "    # YOUR CODE HERE\n",
    "    pass\n"
   ]
  },
  {
   "cell_type": "code",
   "execution_count": 4,
   "metadata": {
    "executionInfo": {
     "elapsed": 3,
     "status": "ok",
     "timestamp": 1739570687414,
     "user": {
      "displayName": "Will Hahn",
      "userId": "03137104021071489773"
     },
     "user_tz": 300
    },
    "id": "6FfLrzZdvUQz",
    "tags": []
   },
   "outputs": [],
   "source": [
    "class LogisticRegressor:\n",
    "    def __init__(self, eta, runs):\n",
    "        self.eta = eta\n",
    "        self.runs = runs\n",
    "        self.W = None\n",
    "\n",
    "    def fit(self, x, y, w_init):\n",
    "        \"\"\"\n",
    "        Optimize the weights W to minimize the negative log-likelihood by using gradient descent\n",
    "\n",
    "        :param x: a 2D numpy array of transformed feature values. Shape is (n x 2), (n x 3), or (n x 6)\n",
    "        :param y: a 2D numpy array of output values. Shape is (n x 1)\n",
    "        :param w_init: a 2D numpy array that initializes the weights. Shape is (n x 1)\n",
    "        :return: None\n",
    "        \"\"\"\n",
    "        # Keep this for the autograder\n",
    "        self.W = w_init\n",
    "        # YOUR CODE HERE\n",
    "        pass\n",
    "\n",
    "    def predict(self, x):\n",
    "        \"\"\"\n",
    "        Predict classification probability of transformed input x\n",
    "\n",
    "        :param x: a 2D numpy array of transformed feature values. Shape is (n x 2), (n x 3), or (n x 6)\n",
    "        :return: a 2D numpy array of predicted probabilities given current weights. Shape should be (n x 1)\n",
    "        \"\"\"\n",
    "        # YOUR CODE HERE\n",
    "        pass"
   ]
  },
  {
   "cell_type": "code",
   "execution_count": 5,
   "metadata": {
    "colab": {
     "base_uri": "https://localhost:8080/"
    },
    "executionInfo": {
     "elapsed": 503,
     "status": "ok",
     "timestamp": 1739570688073,
     "user": {
      "displayName": "Will Hahn",
      "userId": "03137104021071489773"
     },
     "user_tz": 300
    },
    "id": "-UlHICCFvUQz",
    "outputId": "c97c3665-a354-4514-a48f-7de54e322836",
    "tags": []
   },
   "outputs": [],
   "source": [
    "test_p1(LogisticRegressor, basis1, basis2, basis3)"
   ]
  },
  {
   "cell_type": "markdown",
   "metadata": {
    "id": "ZV5HBj8zvUQz"
   },
   "source": [
    "Note: Students have reported local issues with passing the basis 3 test case. Try running on Google Colab if only basis 3 test is failing.  "
   ]
  },
  {
   "cell_type": "markdown",
   "metadata": {
    "id": "h2nQwbk7vUQz"
   },
   "source": [
    "## Plotting Functions for Problem 1, Subpart 2"
   ]
  },
  {
   "cell_type": "code",
   "execution_count": 6,
   "metadata": {
    "executionInfo": {
     "elapsed": 259,
     "status": "ok",
     "timestamp": 1739570690424,
     "user": {
      "displayName": "Will Hahn",
      "userId": "03137104021071489773"
     },
     "user_tz": 300
    },
    "id": "VklRnTZyvUQz"
   },
   "outputs": [],
   "source": [
    "# Function to visualize prediction lines\n",
    "# Takes as input last_x, last_y, [list of models], basis function, title\n",
    "# last_x and last_y should specifically be the dataset that the last model\n",
    "# in [list of models] was trained on\n",
    "def visualize_prediction_lines(last_x, last_y, models, basis, title):\n",
    "    # Plot setup\n",
    "    green = mpatches.Patch(color='green', label='Ground truth model')\n",
    "    black = mpatches.Patch(color='black', label='Mean of learned models')\n",
    "    purple = mpatches.Patch(color='purple', label='Model learned from displayed dataset')\n",
    "    plt.legend(handles=[green, black, purple], loc='lower right')\n",
    "    plt.title(title)\n",
    "    plt.xlabel('Time')\n",
    "    plt.ylabel('Observed')\n",
    "    plt.axis([0, 6, -.1, 1.1]) # Plot ranges\n",
    "\n",
    "    # Plot dataset that last model in models (models[-1]) was trained on\n",
    "    cmap = c.ListedColormap(['r', 'b'])\n",
    "    plt.scatter(last_x, last_y, c=last_y, cmap=cmap, linewidths=1, edgecolors='black')\n",
    "\n",
    "    # Plot models\n",
    "    X_pred = np.linspace(0, 6, 1000)\n",
    "    X_pred_transformed = basis(X_pred)\n",
    "\n",
    "    ## Ground truth model\n",
    "    plt.plot(X_pred, np.cos(1.1*X_pred + 1) * 0.4 + 0.5, 'g', linewidth=5)\n",
    "\n",
    "    ## Individual learned logistic regressor models\n",
    "    Y_hats = []\n",
    "    for i in range(len(models)):\n",
    "        model = models[i]\n",
    "        Y_hat = model.predict(X_pred_transformed)\n",
    "        Y_hats.append(Y_hat)\n",
    "        if i < len(models) - 1:\n",
    "            plt.plot(X_pred, Y_hat, linewidth=.3)\n",
    "        else:\n",
    "            plt.plot(X_pred, Y_hat, 'purple', linewidth=3)\n",
    "\n",
    "    # Mean / expectation of learned models over all datasets\n",
    "    plt.plot(X_pred, np.mean(Y_hats, axis=0), 'k', linewidth=5)\n",
    "\n",
    "#     plt.savefig(title + '.png')\n",
    "    plt.show()"
   ]
  },
  {
   "cell_type": "code",
   "execution_count": 7,
   "metadata": {
    "colab": {
     "base_uri": "https://localhost:8080/",
     "height": 1000
    },
    "executionInfo": {
     "elapsed": 1628,
     "status": "ok",
     "timestamp": 1739570692049,
     "user": {
      "displayName": "Will Hahn",
      "userId": "03137104021071489773"
     },
     "user_tz": 300
    },
    "id": "87KdYWwEvUQ0",
    "outputId": "21136e40-abb7-4319-83f8-a2fd79569d00"
   },
   "outputs": [],
   "source": [
    "# You may find it helpful to modify this function for Problem 1, Subpart 4,\n",
    "# but do not change the existing code--add your own variables\n",
    "def plot_results(basis, title):\n",
    "    eta = 0.001\n",
    "    runs = 1000\n",
    "\n",
    "    all_models = []\n",
    "    for i in range(10):\n",
    "        x, y = t_obs[i], y_obs[i]\n",
    "        x_transformed = basis(x)\n",
    "        model = LogisticRegressor(eta=eta, runs=runs)\n",
    "        model.fit(x_transformed, y, np.zeros((x_transformed.shape[1], 1)))\n",
    "        all_models.append(model)\n",
    "\n",
    "    visualize_prediction_lines(x, y, all_models, basis, title)\n",
    "\n",
    "plot_results(basis1, 'basis1')\n",
    "plot_results(basis2, 'basis2')\n",
    "plot_results(basis3, 'basis3')"
   ]
  },
  {
   "cell_type": "markdown",
   "metadata": {
    "id": "LfI-rZv0vUQ0"
   },
   "source": [
    "# Problem 3"
   ]
  },
  {
   "cell_type": "code",
   "execution_count": 8,
   "metadata": {
    "executionInfo": {
     "elapsed": 6,
     "status": "ok",
     "timestamp": 1739570692049,
     "user": {
      "displayName": "Will Hahn",
      "userId": "03137104021071489773"
     },
     "user_tz": 300
    },
    "id": "vplfRxTjvUQ0"
   },
   "outputs": [],
   "source": [
    "class GaussianGenerativeModel:\n",
    "    def __init__(self, is_shared_covariance=False):\n",
    "        self.is_shared_covariance = is_shared_covariance\n",
    "\n",
    "    def fit(self, X, y):\n",
    "        \"\"\"\n",
    "        Compute the means and (shared) covariance matrix of the data. Compute the prior over y.\n",
    "\n",
    "        :param X: a 2D numpy array of (transformed) feature values. Shape is (n x 2)\n",
    "        :param y: a 1D numpy array of target values (Automatically Rejected=0, Require Guarantor=1, Automatically Accepted=2).\n",
    "        :return: None\n",
    "        \"\"\"\n",
    "        # YOUR CODE HERE\n",
    "        pass\n",
    "\n",
    "    def predict(self, X_pred):\n",
    "        \"\"\"\n",
    "        The code in this method should be removed and replaced! We included it\n",
    "        just so that the distribution code is runnable and produces a\n",
    "        (currently meaningless) visualization.\n",
    "        \n",
    "        Predict classes of points given feature values in X_pred\n",
    "        \n",
    "        :param X_pred: a 2D numpy array of (transformed) feature values. Shape is (n x 2)\n",
    "        :return: a 1D numpy array of predicted classes (Dwarf=0, Giant=1, Supergiant=2).\n",
    "                 Shape should be (n,)\n",
    "        \"\"\"\n",
    "        # YOUR CODE HERE\n",
    "        preds = []\n",
    "        for x in X_pred:\n",
    "            z = np.sin(x ** 2).sum()\n",
    "            preds.append(1 + np.sign(z) * (np.abs(z) > 0.3))\n",
    "        return np.array(preds)\n",
    "\n",
    "    def negative_log_likelihood(self, X, y):\n",
    "        \"\"\"\n",
    "        Given the data X, use previously calculated class means and covariance matrix to\n",
    "        calculate the negative log likelihood of the data\n",
    "        \"\"\"\n",
    "        # YOUR CODE HERE\n",
    "        pass"
   ]
  },
  {
   "cell_type": "code",
   "execution_count": 9,
   "metadata": {
    "executionInfo": {
     "elapsed": 5,
     "status": "ok",
     "timestamp": 1739570692049,
     "user": {
      "displayName": "Will Hahn",
      "userId": "03137104021071489773"
     },
     "user_tz": 300
    },
    "id": "9IUkBIQKvUQ0"
   },
   "outputs": [],
   "source": [
    "class SoftmaxRegression:\n",
    "    def __init__(self, eta, lam, verbose=True):\n",
    "        self.eta = eta\n",
    "        self.lam = lam\n",
    "        self.W = None\n",
    "        self.verbose = verbose\n",
    "\n",
    "    def fit(self, X, y):\n",
    "        \"\"\"\n",
    "        Fit the weights W of softmax regression using gradient descent with L2 regularization\n",
    "        Use the results from Problem 2 to find an expression for the gradient\n",
    "        \n",
    "        :param X: a 2D numpy array of (transformed) feature values. Shape is (n x 2)\n",
    "        :param y: a 1D numpy array of target values (Dwarf=0, Giant=1, Supergiant=2).\n",
    "        :return: None\n",
    "        \"\"\"\n",
    "        assert X.shape[0] == y.shape[0]\n",
    "        # The number of classes is 1 + (the highest numbered class)\n",
    "        num_classes = 1 + y.max()\n",
    "        # Adding the bias to X and making y a one hot vector\n",
    "        X = np.append(np.ones((X.shape[0], 1)), X, axis=1)\n",
    "        y = np.eye(num_classes)[y]\n",
    "        # Initializing the weights\n",
    "        num_features = X.shape[1]\n",
    "        self.W = np.ones((num_classes, num_features))\n",
    "        self.loss_history = []\n",
    "\n",
    "        # YOUR CODE HERE\n",
    "        pass\n",
    "\n",
    "    def predict(self, X_pred):\n",
    "        \"\"\"\n",
    "        The code in this method should be removed and replaced! We included it\n",
    "        just so that the distribution code is runnable and produces a\n",
    "        (currently meaningless) visualization.\n",
    "        \n",
    "        Predict classes of points given feature values in X_pred\n",
    "        \n",
    "        :param X_pred: a 2D numpy array of (transformed) feature values. Shape is (n x 2)\n",
    "        :return: a 1D numpy array of predicted classes (Dwarf=0, Giant=1, Supergiant=2).\n",
    "                 Shape should be (n,)\n",
    "        \"\"\"\n",
    "        # YOUR CODE HERE\n",
    "        preds = []\n",
    "        for x in X_pred:\n",
    "            z = np.cos(x ** 2).sum()\n",
    "            preds.append(1 + np.sign(z) * (np.abs(z) > 0.3))\n",
    "        return np.array(preds)\n",
    "\n",
    "    # Input is (n x 2) array\n",
    "    def predict_proba(self, X_pred):\n",
    "        \"\"\"    \n",
    "        Predict classification probabilities of points given feature values in X_pred\n",
    "        \n",
    "        :param X_pred: a 2D numpy array of (transformed) feature values. Shape is (n x 2)\n",
    "        :return: a 2D numpy array of predicted class probabilities (Dwarf=index 0, Giant=index 1, Supergiant=index 2).\n",
    "                 Shape should be (n x 3)\n",
    "        \"\"\"\n",
    "        # YOUR CODE HERE\n",
    "        pass"
   ]
  },
  {
   "cell_type": "code",
   "execution_count": 10,
   "metadata": {
    "executionInfo": {
     "elapsed": 5,
     "status": "ok",
     "timestamp": 1739570692050,
     "user": {
      "displayName": "Will Hahn",
      "userId": "03137104021071489773"
     },
     "user_tz": 300
    },
    "id": "JKx0A4lsvUQ0"
   },
   "outputs": [],
   "source": [
    "class KNNClassifier:\n",
    "    def __init__(self, k):\n",
    "        self.X = None\n",
    "        self.y = None\n",
    "        self.K = k\n",
    "\n",
    "    def distance(self, row1, row2):\n",
    "        return ((row1[0] - row2[0])/3)**2 + (row1[1] - row2[1])**2\n",
    "    \n",
    "    def fit(self, X, y):\n",
    "        \"\"\"\n",
    "        In KNN, \"fitting\" can be as simple as storing the data, so this has been written for you.\n",
    "        If you'd like to add some preprocessing here without changing the inputs, feel free,\n",
    "        but this is completely optional.\n",
    "        \"\"\"\n",
    "        self.X = X\n",
    "        self.y = y\n",
    "\n",
    "    def predict(self, X_pred):\n",
    "        \"\"\"\n",
    "        The code in this method should be removed and replaced! We included it\n",
    "        just so that the distribution code is runnable and produces a\n",
    "        (currently meaningless) visualization.\n",
    "        \n",
    "        Predict classes of points given feature values in X_pred\n",
    "        \n",
    "        :param X_pred: a 2D numpy array of (transformed) feature values. Shape is (n x 2)\n",
    "        :return: a 1D numpy array of predicted classes (Dwarf=0, Giant=1, Supergiant=2).\n",
    "                 Shape should be (n,)\n",
    "        \"\"\"\n",
    "        # YOUR CODE HERE\n",
    "        preds = []\n",
    "        for x in X_pred:\n",
    "            z = np.cos(x ** 2).sum()\n",
    "            preds.append(1 + np.sign(z) * (np.abs(z) > 0.3))\n",
    "        return np.array(preds)"
   ]
  },
  {
   "cell_type": "code",
   "execution_count": 11,
   "metadata": {
    "executionInfo": {
     "elapsed": 3,
     "status": "ok",
     "timestamp": 1739570692231,
     "user": {
      "displayName": "Will Hahn",
      "userId": "03137104021071489773"
     },
     "user_tz": 300
    },
    "id": "lonR3wrAvUQ0"
   },
   "outputs": [],
   "source": [
    "def phi(X):\n",
    "    \"\"\"\n",
    "    Transform [x_1, x_2] into basis [ln(x_1 + 10), x_2^2]\n",
    "\n",
    "    :param t: a 2D numpy array of values to transform. Shape is (n x 2)\n",
    "    :return: a 2D array in which each row corresponds to a basis transformation of\n",
    "             an input value. Shape should be (n x 2)\n",
    "    \"\"\"\n",
    "    # YOUR CODE HERE\n",
    "    pass"
   ]
  },
  {
   "cell_type": "markdown",
   "metadata": {
    "id": "2QqOVHgkvUQ0"
   },
   "source": [
    "## Plotting Function for Problem 3, Subpart 1"
   ]
  },
  {
   "cell_type": "code",
   "execution_count": 12,
   "metadata": {
    "executionInfo": {
     "elapsed": 220,
     "status": "ok",
     "timestamp": 1739570692878,
     "user": {
      "displayName": "Will Hahn",
      "userId": "03137104021071489773"
     },
     "user_tz": 300
    },
    "id": "8ZYCqyGTvUQ0"
   },
   "outputs": [],
   "source": [
    "# Visualize the decision boundary that a model produces\n",
    "def visualize_boundary(model, X, y, title, basis=None, width=10):\n",
    "    # Create a grid of points\n",
    "    x_min, x_max = min(X[:, 0]-width*0.15), max(X[:, 0]+width*0.15)\n",
    "    y_min, y_max = min(X[:, 1]-width*0.2), max(X[:, 1]+width*0.2)\n",
    "    xx, yy = np.meshgrid(\n",
    "        np.arange(x_min, x_max, 0.05),\n",
    "        np.arange(y_min, y_max, 0.05)\n",
    "    )\n",
    "\n",
    "    # Flatten the grid so the values match spec for self.predict\n",
    "    xx_flat = xx.flatten()\n",
    "    yy_flat = yy.flatten()\n",
    "    X_pred = np.vstack((xx_flat, yy_flat)).T\n",
    "\n",
    "    if basis is not None:\n",
    "        X_pred = basis(X_pred)\n",
    "\n",
    "    # Get the class predictions\n",
    "    Y_hat = model.predict(X_pred)\n",
    "    Y_hat = Y_hat.reshape((xx.shape[0], xx.shape[1]))\n",
    "\n",
    "    # Visualize them.\n",
    "    cmap = c.ListedColormap(['r', 'b', 'g'])\n",
    "    plt.figure()\n",
    "    plt.title(title)\n",
    "    plt.xlabel('Debt to Income Ratio')\n",
    "    plt.ylabel('Credit Score')\n",
    "\n",
    "    ticks = np.transpose(np.array([[0, 0.1, 0.2, 0.3, 0.4, 0.5, 0.6, 0.7],\n",
    "                                   [300, 400, 500, 600, 700, 800, 900, 1000]]))\n",
    "    transformed_ticks = transform(ticks)\n",
    "\n",
    "    plt.xticks(transformed_ticks[:,0],\n",
    "               ticks[:,0])\n",
    "    plt.yticks(transformed_ticks[:,1],\n",
    "               ticks[:,1])\n",
    "    plt.pcolormesh(xx, yy, Y_hat, cmap=cmap, alpha=0.3)\n",
    "    plt.scatter(X[:, 0], X[:, 1], c=y, cmap=cmap, linewidths=1,\n",
    "                edgecolors='black')\n",
    "\n",
    "    # Adding a legend and a title\n",
    "    red = mpatches.Patch(color='red', label='Automatically Rejected')\n",
    "    blue = mpatches.Patch(color='blue', label='Require Guarantor')\n",
    "    green = mpatches.Patch(color='green', label='Automatically Accepted')\n",
    "    plt.legend(handles=[red, blue, green])\n",
    "\n",
    "    # Saving the image to a file, and showing it as well\n",
    "    plt.savefig(title + '.png')\n",
    "    plt.show()"
   ]
  },
  {
   "cell_type": "code",
   "execution_count": 13,
   "metadata": {},
   "outputs": [],
   "source": [
    "# Visualize the decision boundary that a model produces\n",
    "def visualize_credit(X, y, title, basis=None, width=10):\n",
    "    # Create a grid of points\n",
    "    x_min, x_max = min(X[:, 0]-width*0.15), max(X[:, 0]+width*0.15)\n",
    "    y_min, y_max = min(X[:, 1]-width*0.2), max(X[:, 1]+width*0.2)\n",
    "    xx, yy = np.meshgrid(\n",
    "        np.arange(x_min, x_max, 0.05),\n",
    "        np.arange(y_min, y_max, 0.05)\n",
    "    )\n",
    "\n",
    "    # Flatten the grid so the values match spec for self.predict\n",
    "    xx_flat = xx.flatten()\n",
    "    yy_flat = yy.flatten()\n",
    "    X_pred = np.vstack((xx_flat, yy_flat)).T\n",
    "\n",
    "    # Visualize them.\n",
    "    cmap = c.ListedColormap(['r', 'b', 'g'])\n",
    "    plt.figure()\n",
    "    plt.title(title)\n",
    "    plt.xlabel('Debt to Income Ratio')\n",
    "    plt.ylabel('Credit Score')\n",
    "\n",
    "    ticks = np.transpose(np.array([[0, 0.1, 0.2, 0.3, 0.4, 0.5, 0.6, 0.7],\n",
    "                                   [300, 400, 500, 600, 700, 800, 900, 1000]]))\n",
    "    transformed_ticks = transform(ticks)\n",
    "\n",
    "    plt.xticks(transformed_ticks[:,0],\n",
    "               ticks[:,0])\n",
    "    plt.yticks(transformed_ticks[:,1],\n",
    "               ticks[:,1])\n",
    "    plt.scatter(X[:, 0], X[:, 1], c=y, cmap=cmap, linewidths=1,\n",
    "                edgecolors='black')\n",
    "\n",
    "    # Adding a legend and a title\n",
    "    red = mpatches.Patch(color='red', label='Automatically Rejected')\n",
    "    blue = mpatches.Patch(color='blue', label='Require Guarantor')\n",
    "    green = mpatches.Patch(color='green', label='Automatically Accepted')\n",
    "    plt.legend(handles=[red, blue, green])\n",
    "\n",
    "    # Saving the image to a file, and showing it as well\n",
    "    plt.savefig(title + '.png')\n",
    "    plt.show()"
   ]
  },
  {
   "cell_type": "markdown",
   "metadata": {
    "id": "sUs3MZdAvUQ1"
   },
   "source": [
    "## Problem 3, Subpart 1"
   ]
  },
  {
   "cell_type": "code",
   "execution_count": null,
   "metadata": {
    "colab": {
     "base_uri": "https://localhost:8080/",
     "height": 507
    },
    "executionInfo": {
     "elapsed": 680,
     "status": "ok",
     "timestamp": 1739570694086,
     "user": {
      "displayName": "Will Hahn",
      "userId": "03137104021071489773"
     },
     "user_tz": 300
    },
    "id": "XtxMaH8PvUQ1",
    "outputId": "fc50e23e-8d3b-485b-e036-dff44b124818"
   },
   "outputs": [],
   "source": [
    "# Example of fitting a model and visualizing the decision boundaries;\n",
    "# do this for each of the four models\n",
    "nb1 = GaussianGenerativeModel(is_shared_covariance=False)\n",
    "nb1.fit(X_applicants, y_applicants)\n",
    "visualize_boundary(nb1, X_applicants, y_applicants, 'generative_result_separate_covariances')\n",
    "print('Separate Covariance negative log-likelihood: {}\\n'\n",
    "      .format(nb1.negative_log_likelihood(X_applicants, y_applicants)))"
   ]
  },
  {
   "cell_type": "code",
   "execution_count": 21,
   "metadata": {
    "colab": {
     "base_uri": "https://localhost:8080/"
    },
    "executionInfo": {
     "elapsed": 165,
     "status": "ok",
     "timestamp": 1739570757554,
     "user": {
      "displayName": "Will Hahn",
      "userId": "03137104021071489773"
     },
     "user_tz": 300
    },
    "id": "_DtOrO23vUQ1",
    "outputId": "09380131-5bfa-418f-ed2c-e27016ae6830"
   },
   "outputs": [],
   "source": [
    "# test your models by passing your fitted models into the functions below\n",
    "# softmax_model is an instance of class SoftmaxRegression fitted to data X_applicants, y_applicants\n",
    "# basis_model is an instance of class SoftmaxRegression fitted to data phi(X_applicants), y_applicants\n",
    "# knn1_model is an instance of class KNNClassifier with parameter k=1\n",
    "# knn5_model is an instance of class KNNClassifier with parameter k=5\n",
    "test_p3_softmax(softmax_model, basis_model)\n",
    "test_p3_knn(knn1_model, knn5_model)"
   ]
  }
 ],
 "metadata": {
  "colab": {
   "provenance": []
  },
  "kernelspec": {
   "display_name": "Python 3 (ipykernel)",
   "language": "python",
   "name": "python3"
  },
  "language_info": {
   "codemirror_mode": {
    "name": "ipython",
    "version": 3
   },
   "file_extension": ".py",
   "mimetype": "text/x-python",
   "name": "python",
   "nbconvert_exporter": "python",
   "pygments_lexer": "ipython3",
   "version": "3.12.2"
  }
 },
 "nbformat": 4,
 "nbformat_minor": 4
}
