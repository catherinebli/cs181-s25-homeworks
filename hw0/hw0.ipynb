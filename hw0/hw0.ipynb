{
 "cells": [
  {
   "cell_type": "markdown",
   "id": "340c9904",
   "metadata": {},
   "source": [
    "# **CS 1810 Homework 0**\n",
    "---\n",
    "To account for potential version issues, try the following in your terminal:\n",
    "\n",
    "1. Create a new environment with `python3 -m venv venv`\n",
    "2. Activate that environment with `source venv/bin/activate`\n",
    "3. Make sure the interpreter in the top right corner of your VSCode (or whatever u use to run ur code is venv).\n",
    "4. If you get a \"install kernel\" message, press it.\n",
    "5. Run `pip install -r requirements.txt`\n",
    "6. Run the remainder of this notebook.\n",
    "\n",
    "Note that this is not necessary (especially for hw0) but can help prevent any issues due to package versions."
   ]
  },
  {
   "cell_type": "code",
   "execution_count": 1,
   "id": "db111e02",
   "metadata": {},
   "outputs": [],
   "source": [
    "# Standard imports\n",
    "import numpy as np\n",
    "import pandas as pd\n",
    "import matplotlib.pyplot as plt\n",
    "import seaborn as sns\n",
    "from scipy.stats import multivariate_normal as mvn"
   ]
  },
  {
   "cell_type": "markdown",
   "id": "e7320304",
   "metadata": {},
   "source": [
    "## 2.1 Plot $y = -3x^2 + 72x + 70$."
   ]
  },
  {
   "cell_type": "code",
   "execution_count": null,
   "id": "de64175e",
   "metadata": {},
   "outputs": [],
   "source": []
  },
  {
   "cell_type": "markdown",
   "id": "bfe7bd0a",
   "metadata": {},
   "source": [
    "## 2.3 Plot $f(x_1, x_2)$."
   ]
  },
  {
   "cell_type": "code",
   "execution_count": null,
   "id": "5130b447",
   "metadata": {},
   "outputs": [],
   "source": []
  },
  {
   "cell_type": "markdown",
   "id": "73293532",
   "metadata": {},
   "source": [
    "## 3.1(b) Draw from joint distribution of $(S, W)$ and generate bivariate histogram."
   ]
  },
  {
   "cell_type": "code",
   "execution_count": null,
   "id": "f8add966",
   "metadata": {},
   "outputs": [],
   "source": []
  },
  {
   "cell_type": "markdown",
   "id": "be0744ef",
   "metadata": {},
   "source": [
    "## 3.2 Plot the joint PDFs at $S=118$ and $S=122$, varying $W$."
   ]
  },
  {
   "cell_type": "code",
   "execution_count": null,
   "id": "06df8bb3",
   "metadata": {},
   "outputs": [],
   "source": []
  },
  {
   "cell_type": "markdown",
   "id": "0889f71d",
   "metadata": {},
   "source": [
    "## 3.5(a) Function to simulate draws from $T^{*}$."
   ]
  },
  {
   "cell_type": "code",
   "execution_count": 6,
   "id": "1483559c",
   "metadata": {},
   "outputs": [],
   "source": []
  },
  {
   "cell_type": "markdown",
   "id": "13646fb6",
   "metadata": {},
   "source": [
    "## 3.5(b) Empirically estimate the mean and standard deviation of $T^{*}$ by generating $1000$ samples."
   ]
  },
  {
   "cell_type": "code",
   "execution_count": null,
   "id": "fdd1f260",
   "metadata": {},
   "outputs": [],
   "source": []
  },
  {
   "cell_type": "markdown",
   "id": "0bf45875",
   "metadata": {},
   "source": [
    "# 4.1: Examining the Data"
   ]
  },
  {
   "cell_type": "code",
   "execution_count": 2,
   "id": "bd516bcf",
   "metadata": {},
   "outputs": [],
   "source": [
    "# Steve's solution\n",
    "data = pd.read_csv(\"data/points.csv\").values\n",
    "x = data[0]\n",
    "y = data[1]"
   ]
  },
  {
   "cell_type": "markdown",
   "id": "ec4d8ee5",
   "metadata": {},
   "source": [
    "## 4.2: Adding the Intercept/Bias Term"
   ]
  },
  {
   "cell_type": "code",
   "execution_count": 3,
   "id": "475e3773",
   "metadata": {},
   "outputs": [],
   "source": [
    "# Steve's solution\n",
    "intercept = np.ones(x.shape[0])\n",
    "X = np.hstack([intercept, x]) # horizontally stack the ones and x coordinates next to each other"
   ]
  },
  {
   "cell_type": "markdown",
   "id": "f86a0d9a",
   "metadata": {},
   "source": [
    "## 4.4: Implementing the LinearRegression Class"
   ]
  },
  {
   "cell_type": "code",
   "execution_count": 4,
   "id": "16ef282b",
   "metadata": {},
   "outputs": [],
   "source": [
    "# Steve's solution\n",
    "class LinearRegression:\n",
    "    def __init__(self):\n",
    "        self.w = None\n",
    "\n",
    "    def fit(self, X, y):\n",
    "        \"\"\"\n",
    "        Fit linear model to the data, estimating weights w.\n",
    "        \"\"\"\n",
    "        return (X.T * X)**-1 * X * y.T\n",
    "\n",
    "    def predict(X):\n",
    "        \"\"\"\n",
    "        Use fitted weights to predict target y given input features X.\n",
    "        \"\"\"\n",
    "        return X @ w"
   ]
  },
  {
   "cell_type": "code",
   "execution_count": null,
   "id": "fa1e8ea7",
   "metadata": {},
   "outputs": [],
   "source": [
    "### DON'T MODIFY THIS CELL\n",
    "\n",
    "# Fit the linear regression\n",
    "lr = LinearRegression()\n",
    "lr.fit(X, y)\n",
    "y_pred = lr.predict(X)\n",
    "# Plot the data and the regression line\n",
    "plt.scatter(X[:, 1], y)\n",
    "plt.plot(X[:, 1], y_pred, color='red')\n",
    "plt.title(\"Linear Regression\")\n",
    "plt.xlabel(\"x\")\n",
    "plt.ylabel(\"y\")\n",
    "plt.savefig('img_output/hw0_p4_4.png')\n",
    "plt.show()"
   ]
  },
  {
   "cell_type": "markdown",
   "id": "d2c7d025",
   "metadata": {},
   "source": [
    "## 4.5 MSE Computation"
   ]
  },
  {
   "cell_type": "code",
   "execution_count": null,
   "id": "0253d8f1",
   "metadata": {},
   "outputs": [],
   "source": [
    "# Steve's solution\n",
    "mse = 0\n",
    "for i in range(len(y)):\n",
    "    mse = mse + (y[i] - y_pred[i])**2\n",
    "mse = mse / len(y)\n",
    "print(mse)"
   ]
  },
  {
   "cell_type": "code",
   "execution_count": null,
   "id": "8535a37d",
   "metadata": {},
   "outputs": [],
   "source": []
  }
 ],
 "metadata": {
  "kernelspec": {
   "display_name": "Python 3",
   "language": "python",
   "name": "python3"
  },
  "language_info": {
   "codemirror_mode": {
    "name": "ipython",
    "version": 3
   },
   "file_extension": ".py",
   "mimetype": "text/x-python",
   "name": "python",
   "nbconvert_exporter": "python",
   "pygments_lexer": "ipython3",
   "version": "3.13.1"
  },
  "vscode": {
   "interpreter": {
    "hash": "a0a5145e6c304e2a9afaf5b930a2955b950bd4b81fe94f7c42930f43f42762eb"
   }
  }
 },
 "nbformat": 4,
 "nbformat_minor": 5
}
